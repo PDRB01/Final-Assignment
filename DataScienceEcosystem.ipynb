{
 "cells": [
  {
   "cell_type": "markdown",
   "id": "c5e23c65",
   "metadata": {},
   "source": [
    "# Data Science Tools and Ecosystem"
   ]
  },
  {
   "cell_type": "markdown",
   "id": "d26892ac",
   "metadata": {},
   "source": [
    "In this notebook, Data Science Tools and Ecosystem are summarized."
   ]
  },
  {
   "cell_type": "markdown",
   "id": "40f6c6fc",
   "metadata": {},
   "source": [
    "**Objectives:**\n",
    "- List of popular languages for Data Science\n",
    "- List of commonly used libraries for Data Science\n",
    "- List of Data Science Tools\n",
    "- Aritmetic Expression\n",
    "- Conversion from minutes to hours"
   ]
  },
  {
   "cell_type": "markdown",
   "id": "93015d39",
   "metadata": {},
   "source": [
    "Some of the popular languages that Data Scientists use are:\n",
    "1. Python\n",
    "2. R.\n",
    "3. Java"
   ]
  },
  {
   "cell_type": "markdown",
   "id": "f5495f42",
   "metadata": {},
   "source": [
    "Some of the commonly used libraries used by Data Scientists include:\n",
    "1. numpy\n",
    "2. ggplot\n",
    "3. pandas"
   ]
  },
  {
   "cell_type": "markdown",
   "id": "ccf59590",
   "metadata": {},
   "source": [
    "|Data Science Tools|\n",
    "|---|\n",
    "|Jupyter|\n",
    "|RStudio|\n",
    "|Visual Studio|\n"
   ]
  },
  {
   "cell_type": "markdown",
   "id": "58d5a296",
   "metadata": {},
   "source": [
    "### Below are a few examples of evaluating arithmetic expressions in Python"
   ]
  },
  {
   "cell_type": "code",
   "execution_count": 1,
   "id": "d029d0ff",
   "metadata": {},
   "outputs": [
    {
     "data": {
      "text/plain": [
       "17"
      ]
     },
     "execution_count": 1,
     "metadata": {},
     "output_type": "execute_result"
    }
   ],
   "source": [
    "#This a simple arithmetic expression to mutiply then add integers\n",
    "(3*4)+5"
   ]
  },
  {
   "cell_type": "code",
   "execution_count": 2,
   "id": "33f5c57d",
   "metadata": {},
   "outputs": [
    {
     "data": {
      "text/plain": [
       "3.3333333333333335"
      ]
     },
     "execution_count": 2,
     "metadata": {},
     "output_type": "execute_result"
    }
   ],
   "source": [
    "#This will convert 200 minutes to hours by diving by 60\n",
    "200/60"
   ]
  },
  {
   "cell_type": "markdown",
   "id": "ca70c6d5",
   "metadata": {},
   "source": [
    "## Author\n",
    "Pablo Diaz Riveiro Barbeito"
   ]
  },
  {
   "cell_type": "code",
   "execution_count": null,
   "id": "ca804442",
   "metadata": {},
   "outputs": [],
   "source": []
  }
 ],
 "metadata": {
  "kernelspec": {
   "display_name": "Python 3 (ipykernel)",
   "language": "python",
   "name": "python3"
  },
  "language_info": {
   "codemirror_mode": {
    "name": "ipython",
    "version": 3
   },
   "file_extension": ".py",
   "mimetype": "text/x-python",
   "name": "python",
   "nbconvert_exporter": "python",
   "pygments_lexer": "ipython3",
   "version": "3.10.9"
  }
 },
 "nbformat": 4,
 "nbformat_minor": 5
}
